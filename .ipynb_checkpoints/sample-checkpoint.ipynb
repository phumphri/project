{
 "cells": [
  {
   "cell_type": "markdown",
   "metadata": {},
   "source": [
    "# Sample"
   ]
  },
  {
   "cell_type": "markdown",
   "metadata": {},
   "source": [
    "![Data Acquisition](static/img/sample.png)\n"
   ]
  },
  {
   "cell_type": "markdown",
   "metadata": {},
   "source": [
    "## Purpose\n",
    "The sample application is to be used as a template for displaying machine learning results on a webpage."
   ]
  },
  {
   "cell_type": "markdown",
   "metadata": {},
   "source": [
    "## Process\n",
    "Three modules need to be coded:\n",
    "* A python program like sample.py that executes machine learning and responds like an API.\n",
    "* A HTML page like sample.html that hosts the javascript module and the plot.\n",
    "* A javascript program that makes the GET call to the API and plots the JSON payload.\n",
    "\n",
    "One module needs to be modified.\n",
    "* Add the entry for the new HTML module to the toc.html module."
   ]
  },
  {
   "cell_type": "markdown",
   "metadata": {},
   "source": [
    "### API Steps\n",
    "1.  Pull the current repository.\n",
    "2.  Copy, rename, and modify sample.py to host data engineering and machine learning.\n",
    "3.  Modify app.py to add the end point to host your python program.\n",
    "4.  Test locally with Postman.\n",
    "5.  Push to the repository.\n",
    "6.  Monitor Heroku dashboard for the application rebuild.\n",
    "7.  Examine the log file from the Heroku dashboard for error messages.\n",
    "8.  Test on the Internet with Postman.\n",
    "9.  Monitor the log from the Heroku dashboard for error messages and print output."
   ]
  },
  {
   "cell_type": "markdown",
   "metadata": {},
   "source": [
    "### Visualization Steps\n",
    "1.  Pull the current repository.\n",
    "2.  Copy, rename, and modify sample.html to host the javascript and plot.\n",
    "3.  Copy, rename, and modify sample.js to make GET calls and plot the returning JSON payload.\n",
    "4.  Modify toc.html to call your html module.\n",
    "5.  Test locally with Chrome.\n",
    "6.  Push to the repository.\n",
    "7.  Monitor Heroku dashboard for the application rebuild.\n",
    "8.  Examine the log file from the Heroku dashboard for error messages and print output.\n",
    "9.  Test on the Internet with Chrome.\n",
    "10.  Monitor the log from the Heroku dashboard for error messages and print output."
   ]
  }
 ],
 "metadata": {
  "kernelspec": {
   "display_name": "Python 3",
   "language": "python",
   "name": "python3"
  },
  "language_info": {
   "codemirror_mode": {
    "name": "ipython",
    "version": 3
   },
   "file_extension": ".py",
   "mimetype": "text/x-python",
   "name": "python",
   "nbconvert_exporter": "python",
   "pygments_lexer": "ipython3",
   "version": "3.6.5"
  }
 },
 "nbformat": 4,
 "nbformat_minor": 2
}
